{
 "cells": [
  {
   "cell_type": "code",
   "execution_count": null,
   "id": "0ae8e17f",
   "metadata": {
    "vscode": {
     "languageId": "plaintext"
    }
   },
   "outputs": [],
   "source": [
    "import os\n",
    "from ebmdatalab import bq\n",
    "from pathlib import Path\n",
    "\n",
    "# Set data path\n",
    "DATA_FOLDER = Path(\"data\")\n",
    "\n",
    "sql = \"\"\"\n",
    "    SELECT\n",
    "        code,\n",
    "        name\n",
    "    FROM\n",
    "        ebmdatalab.hscic.ccgs\n",
    "    WHERE\n",
    "        name IS NOT NULL\n",
    "    GROUP BY\n",
    "        code,\n",
    "        name\n",
    "    \"\"\"\n",
    "\n",
    "ccg_names = bq.cached_read(sql, os.path.join(DATA_FOLDER, \"ccg_names.csv\"), use_cache=False, progress_bar_type=None)\n",
    "ccg_names"
   ]
  }
 ],
 "metadata": {
  "language_info": {
   "name": "python"
  }
 },
 "nbformat": 4,
 "nbformat_minor": 5
}
